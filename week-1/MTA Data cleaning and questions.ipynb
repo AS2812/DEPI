{
 "cells": [
  {
   "cell_type": "code",
   "execution_count": 1,
   "id": "b0ac65d7",
   "metadata": {},
   "outputs": [
    {
     "data": {
      "text/html": [
       "<div>\n",
       "<style scoped>\n",
       "    .dataframe tbody tr th:only-of-type {\n",
       "        vertical-align: middle;\n",
       "    }\n",
       "\n",
       "    .dataframe tbody tr th {\n",
       "        vertical-align: top;\n",
       "    }\n",
       "\n",
       "    .dataframe thead th {\n",
       "        text-align: right;\n",
       "    }\n",
       "</style>\n",
       "<table border=\"1\" class=\"dataframe\">\n",
       "  <thead>\n",
       "    <tr style=\"text-align: right;\">\n",
       "      <th></th>\n",
       "      <th>Date</th>\n",
       "      <th>Subways: Total Estimated Ridership</th>\n",
       "      <th>Subways: % of Comparable Pre-Pandemic Day</th>\n",
       "      <th>Buses: Total Estimated Ridership</th>\n",
       "      <th>Buses: % of Comparable Pre-Pandemic Day</th>\n",
       "      <th>LIRR: Total Estimated Ridership</th>\n",
       "      <th>LIRR: % of Comparable Pre-Pandemic Day</th>\n",
       "      <th>Metro-North: Total Estimated Ridership</th>\n",
       "      <th>Metro-North: % of Comparable Pre-Pandemic Day</th>\n",
       "      <th>Access-A-Ride: Total Scheduled Trips</th>\n",
       "      <th>Access-A-Ride: % of Comparable Pre-Pandemic Day</th>\n",
       "      <th>Bridges and Tunnels: Total Traffic</th>\n",
       "      <th>Bridges and Tunnels: % of Comparable Pre-Pandemic Day</th>\n",
       "      <th>Staten Island Railway: Total Estimated Ridership</th>\n",
       "      <th>Staten Island Railway: % of Comparable Pre-Pandemic Day</th>\n",
       "    </tr>\n",
       "  </thead>\n",
       "  <tbody>\n",
       "    <tr>\n",
       "      <th>0</th>\n",
       "      <td>2020-03-01</td>\n",
       "      <td>2212965</td>\n",
       "      <td>97</td>\n",
       "      <td>984908</td>\n",
       "      <td>99</td>\n",
       "      <td>86790</td>\n",
       "      <td>100</td>\n",
       "      <td>55825</td>\n",
       "      <td>59</td>\n",
       "      <td>19922</td>\n",
       "      <td>113</td>\n",
       "      <td>786960</td>\n",
       "      <td>98</td>\n",
       "      <td>1636</td>\n",
       "      <td>52</td>\n",
       "    </tr>\n",
       "    <tr>\n",
       "      <th>1</th>\n",
       "      <td>2020-03-02</td>\n",
       "      <td>5329915</td>\n",
       "      <td>96</td>\n",
       "      <td>2209066</td>\n",
       "      <td>99</td>\n",
       "      <td>321569</td>\n",
       "      <td>103</td>\n",
       "      <td>180701</td>\n",
       "      <td>66</td>\n",
       "      <td>30338</td>\n",
       "      <td>102</td>\n",
       "      <td>874619</td>\n",
       "      <td>95</td>\n",
       "      <td>17140</td>\n",
       "      <td>107</td>\n",
       "    </tr>\n",
       "    <tr>\n",
       "      <th>2</th>\n",
       "      <td>2020-03-03</td>\n",
       "      <td>5481103</td>\n",
       "      <td>98</td>\n",
       "      <td>2228608</td>\n",
       "      <td>99</td>\n",
       "      <td>319727</td>\n",
       "      <td>102</td>\n",
       "      <td>190648</td>\n",
       "      <td>69</td>\n",
       "      <td>32767</td>\n",
       "      <td>110</td>\n",
       "      <td>882175</td>\n",
       "      <td>96</td>\n",
       "      <td>17453</td>\n",
       "      <td>109</td>\n",
       "    </tr>\n",
       "    <tr>\n",
       "      <th>3</th>\n",
       "      <td>2020-03-04</td>\n",
       "      <td>5498809</td>\n",
       "      <td>99</td>\n",
       "      <td>2177165</td>\n",
       "      <td>97</td>\n",
       "      <td>311662</td>\n",
       "      <td>99</td>\n",
       "      <td>192689</td>\n",
       "      <td>70</td>\n",
       "      <td>34297</td>\n",
       "      <td>115</td>\n",
       "      <td>905558</td>\n",
       "      <td>98</td>\n",
       "      <td>17136</td>\n",
       "      <td>107</td>\n",
       "    </tr>\n",
       "    <tr>\n",
       "      <th>4</th>\n",
       "      <td>2020-03-05</td>\n",
       "      <td>5496453</td>\n",
       "      <td>99</td>\n",
       "      <td>2244515</td>\n",
       "      <td>100</td>\n",
       "      <td>307597</td>\n",
       "      <td>98</td>\n",
       "      <td>194386</td>\n",
       "      <td>70</td>\n",
       "      <td>33209</td>\n",
       "      <td>112</td>\n",
       "      <td>929298</td>\n",
       "      <td>101</td>\n",
       "      <td>17203</td>\n",
       "      <td>108</td>\n",
       "    </tr>\n",
       "  </tbody>\n",
       "</table>\n",
       "</div>"
      ],
      "text/plain": [
       "         Date  Subways: Total Estimated Ridership  \\\n",
       "0  2020-03-01                             2212965   \n",
       "1  2020-03-02                             5329915   \n",
       "2  2020-03-03                             5481103   \n",
       "3  2020-03-04                             5498809   \n",
       "4  2020-03-05                             5496453   \n",
       "\n",
       "   Subways: % of Comparable Pre-Pandemic Day  \\\n",
       "0                                         97   \n",
       "1                                         96   \n",
       "2                                         98   \n",
       "3                                         99   \n",
       "4                                         99   \n",
       "\n",
       "   Buses: Total Estimated Ridership  Buses: % of Comparable Pre-Pandemic Day  \\\n",
       "0                            984908                                       99   \n",
       "1                           2209066                                       99   \n",
       "2                           2228608                                       99   \n",
       "3                           2177165                                       97   \n",
       "4                           2244515                                      100   \n",
       "\n",
       "   LIRR: Total Estimated Ridership  LIRR: % of Comparable Pre-Pandemic Day  \\\n",
       "0                            86790                                     100   \n",
       "1                           321569                                     103   \n",
       "2                           319727                                     102   \n",
       "3                           311662                                      99   \n",
       "4                           307597                                      98   \n",
       "\n",
       "   Metro-North: Total Estimated Ridership  \\\n",
       "0                                   55825   \n",
       "1                                  180701   \n",
       "2                                  190648   \n",
       "3                                  192689   \n",
       "4                                  194386   \n",
       "\n",
       "   Metro-North: % of Comparable Pre-Pandemic Day  \\\n",
       "0                                             59   \n",
       "1                                             66   \n",
       "2                                             69   \n",
       "3                                             70   \n",
       "4                                             70   \n",
       "\n",
       "   Access-A-Ride: Total Scheduled Trips  \\\n",
       "0                                 19922   \n",
       "1                                 30338   \n",
       "2                                 32767   \n",
       "3                                 34297   \n",
       "4                                 33209   \n",
       "\n",
       "   Access-A-Ride: % of Comparable Pre-Pandemic Day  \\\n",
       "0                                              113   \n",
       "1                                              102   \n",
       "2                                              110   \n",
       "3                                              115   \n",
       "4                                              112   \n",
       "\n",
       "   Bridges and Tunnels: Total Traffic  \\\n",
       "0                              786960   \n",
       "1                              874619   \n",
       "2                              882175   \n",
       "3                              905558   \n",
       "4                              929298   \n",
       "\n",
       "   Bridges and Tunnels: % of Comparable Pre-Pandemic Day  \\\n",
       "0                                                 98       \n",
       "1                                                 95       \n",
       "2                                                 96       \n",
       "3                                                 98       \n",
       "4                                                101       \n",
       "\n",
       "   Staten Island Railway: Total Estimated Ridership  \\\n",
       "0                                              1636   \n",
       "1                                             17140   \n",
       "2                                             17453   \n",
       "3                                             17136   \n",
       "4                                             17203   \n",
       "\n",
       "   Staten Island Railway: % of Comparable Pre-Pandemic Day  \n",
       "0                                                 52        \n",
       "1                                                107        \n",
       "2                                                109        \n",
       "3                                                107        \n",
       "4                                                108        "
      ]
     },
     "execution_count": 1,
     "metadata": {},
     "output_type": "execute_result"
    }
   ],
   "source": [
    "import pandas as pd\n",
    "\n",
    "# Loading the dataset\n",
    "df = pd.read_csv(\"MTA_Daily_Ridership.csv\")\n",
    "\n",
    "# Displaying the first few rows\n",
    "df.head()"
   ]
  },
  {
   "cell_type": "markdown",
   "id": "f2cdd3d6",
   "metadata": {},
   "source": [
    "## Inspecting the dataset"
   ]
  },
  {
   "cell_type": "code",
   "execution_count": 2,
   "id": "bbbaa6e9",
   "metadata": {},
   "outputs": [
    {
     "name": "stdout",
     "output_type": "stream",
     "text": [
      "<class 'pandas.core.frame.DataFrame'>\n",
      "RangeIndex: 1706 entries, 0 to 1705\n",
      "Data columns (total 15 columns):\n",
      " #   Column                                                   Non-Null Count  Dtype \n",
      "---  ------                                                   --------------  ----- \n",
      " 0   Date                                                     1706 non-null   object\n",
      " 1   Subways: Total Estimated Ridership                       1706 non-null   int64 \n",
      " 2   Subways: % of Comparable Pre-Pandemic Day                1706 non-null   int64 \n",
      " 3   Buses: Total Estimated Ridership                         1706 non-null   int64 \n",
      " 4   Buses: % of Comparable Pre-Pandemic Day                  1706 non-null   int64 \n",
      " 5   LIRR: Total Estimated Ridership                          1706 non-null   int64 \n",
      " 6   LIRR: % of Comparable Pre-Pandemic Day                   1706 non-null   int64 \n",
      " 7   Metro-North: Total Estimated Ridership                   1706 non-null   int64 \n",
      " 8   Metro-North: % of Comparable Pre-Pandemic Day            1706 non-null   int64 \n",
      " 9   Access-A-Ride: Total Scheduled Trips                     1706 non-null   int64 \n",
      " 10  Access-A-Ride: % of Comparable Pre-Pandemic Day          1706 non-null   int64 \n",
      " 11  Bridges and Tunnels: Total Traffic                       1706 non-null   int64 \n",
      " 12  Bridges and Tunnels: % of Comparable Pre-Pandemic Day    1706 non-null   int64 \n",
      " 13  Staten Island Railway: Total Estimated Ridership         1706 non-null   int64 \n",
      " 14  Staten Island Railway: % of Comparable Pre-Pandemic Day  1706 non-null   int64 \n",
      "dtypes: int64(14), object(1)\n",
      "memory usage: 200.0+ KB\n"
     ]
    },
    {
     "data": {
      "text/plain": [
       "0"
      ]
     },
     "execution_count": 2,
     "metadata": {},
     "output_type": "execute_result"
    }
   ],
   "source": [
    "# Checking basic info about the dataset\n",
    "df.info()\n",
    "\n",
    "# Checking if there are missing values\n",
    "df.isnull().sum()\n",
    "\n",
    "# Checking for duplicate rows\n",
    "df.duplicated().sum()"
   ]
  },
  {
   "cell_type": "markdown",
   "id": "45828267",
   "metadata": {},
   "source": [
    "## Renaming columns for easier access"
   ]
  },
  {
   "cell_type": "code",
   "execution_count": 3,
   "id": "9f031e97",
   "metadata": {},
   "outputs": [
    {
     "data": {
      "text/html": [
       "<div>\n",
       "<style scoped>\n",
       "    .dataframe tbody tr th:only-of-type {\n",
       "        vertical-align: middle;\n",
       "    }\n",
       "\n",
       "    .dataframe tbody tr th {\n",
       "        vertical-align: top;\n",
       "    }\n",
       "\n",
       "    .dataframe thead th {\n",
       "        text-align: right;\n",
       "    }\n",
       "</style>\n",
       "<table border=\"1\" class=\"dataframe\">\n",
       "  <thead>\n",
       "    <tr style=\"text-align: right;\">\n",
       "      <th></th>\n",
       "      <th>date</th>\n",
       "      <th>subways_total_estimated_ridership</th>\n",
       "      <th>subways_%_of_comparable_pre-pandemic_day</th>\n",
       "      <th>buses_total_estimated_ridership</th>\n",
       "      <th>buses_%_of_comparable_pre-pandemic_day</th>\n",
       "      <th>lirr_total_estimated_ridership</th>\n",
       "      <th>lirr_%_of_comparable_pre-pandemic_day</th>\n",
       "      <th>metro-north_total_estimated_ridership</th>\n",
       "      <th>metro-north_%_of_comparable_pre-pandemic_day</th>\n",
       "      <th>access-a-ride_total_scheduled_trips</th>\n",
       "      <th>access-a-ride_%_of_comparable_pre-pandemic_day</th>\n",
       "      <th>bridges_and_tunnels_total_traffic</th>\n",
       "      <th>bridges_and_tunnels_%_of_comparable_pre-pandemic_day</th>\n",
       "      <th>staten_island_railway_total_estimated_ridership</th>\n",
       "      <th>staten_island_railway_%_of_comparable_pre-pandemic_day</th>\n",
       "    </tr>\n",
       "  </thead>\n",
       "  <tbody>\n",
       "    <tr>\n",
       "      <th>0</th>\n",
       "      <td>2020-03-01</td>\n",
       "      <td>2212965</td>\n",
       "      <td>97</td>\n",
       "      <td>984908</td>\n",
       "      <td>99</td>\n",
       "      <td>86790</td>\n",
       "      <td>100</td>\n",
       "      <td>55825</td>\n",
       "      <td>59</td>\n",
       "      <td>19922</td>\n",
       "      <td>113</td>\n",
       "      <td>786960</td>\n",
       "      <td>98</td>\n",
       "      <td>1636</td>\n",
       "      <td>52</td>\n",
       "    </tr>\n",
       "    <tr>\n",
       "      <th>1</th>\n",
       "      <td>2020-03-02</td>\n",
       "      <td>5329915</td>\n",
       "      <td>96</td>\n",
       "      <td>2209066</td>\n",
       "      <td>99</td>\n",
       "      <td>321569</td>\n",
       "      <td>103</td>\n",
       "      <td>180701</td>\n",
       "      <td>66</td>\n",
       "      <td>30338</td>\n",
       "      <td>102</td>\n",
       "      <td>874619</td>\n",
       "      <td>95</td>\n",
       "      <td>17140</td>\n",
       "      <td>107</td>\n",
       "    </tr>\n",
       "    <tr>\n",
       "      <th>2</th>\n",
       "      <td>2020-03-03</td>\n",
       "      <td>5481103</td>\n",
       "      <td>98</td>\n",
       "      <td>2228608</td>\n",
       "      <td>99</td>\n",
       "      <td>319727</td>\n",
       "      <td>102</td>\n",
       "      <td>190648</td>\n",
       "      <td>69</td>\n",
       "      <td>32767</td>\n",
       "      <td>110</td>\n",
       "      <td>882175</td>\n",
       "      <td>96</td>\n",
       "      <td>17453</td>\n",
       "      <td>109</td>\n",
       "    </tr>\n",
       "    <tr>\n",
       "      <th>3</th>\n",
       "      <td>2020-03-04</td>\n",
       "      <td>5498809</td>\n",
       "      <td>99</td>\n",
       "      <td>2177165</td>\n",
       "      <td>97</td>\n",
       "      <td>311662</td>\n",
       "      <td>99</td>\n",
       "      <td>192689</td>\n",
       "      <td>70</td>\n",
       "      <td>34297</td>\n",
       "      <td>115</td>\n",
       "      <td>905558</td>\n",
       "      <td>98</td>\n",
       "      <td>17136</td>\n",
       "      <td>107</td>\n",
       "    </tr>\n",
       "    <tr>\n",
       "      <th>4</th>\n",
       "      <td>2020-03-05</td>\n",
       "      <td>5496453</td>\n",
       "      <td>99</td>\n",
       "      <td>2244515</td>\n",
       "      <td>100</td>\n",
       "      <td>307597</td>\n",
       "      <td>98</td>\n",
       "      <td>194386</td>\n",
       "      <td>70</td>\n",
       "      <td>33209</td>\n",
       "      <td>112</td>\n",
       "      <td>929298</td>\n",
       "      <td>101</td>\n",
       "      <td>17203</td>\n",
       "      <td>108</td>\n",
       "    </tr>\n",
       "  </tbody>\n",
       "</table>\n",
       "</div>"
      ],
      "text/plain": [
       "         date  subways_total_estimated_ridership  \\\n",
       "0  2020-03-01                            2212965   \n",
       "1  2020-03-02                            5329915   \n",
       "2  2020-03-03                            5481103   \n",
       "3  2020-03-04                            5498809   \n",
       "4  2020-03-05                            5496453   \n",
       "\n",
       "   subways_%_of_comparable_pre-pandemic_day  buses_total_estimated_ridership  \\\n",
       "0                                        97                           984908   \n",
       "1                                        96                          2209066   \n",
       "2                                        98                          2228608   \n",
       "3                                        99                          2177165   \n",
       "4                                        99                          2244515   \n",
       "\n",
       "   buses_%_of_comparable_pre-pandemic_day  lirr_total_estimated_ridership  \\\n",
       "0                                      99                           86790   \n",
       "1                                      99                          321569   \n",
       "2                                      99                          319727   \n",
       "3                                      97                          311662   \n",
       "4                                     100                          307597   \n",
       "\n",
       "   lirr_%_of_comparable_pre-pandemic_day  \\\n",
       "0                                    100   \n",
       "1                                    103   \n",
       "2                                    102   \n",
       "3                                     99   \n",
       "4                                     98   \n",
       "\n",
       "   metro-north_total_estimated_ridership  \\\n",
       "0                                  55825   \n",
       "1                                 180701   \n",
       "2                                 190648   \n",
       "3                                 192689   \n",
       "4                                 194386   \n",
       "\n",
       "   metro-north_%_of_comparable_pre-pandemic_day  \\\n",
       "0                                            59   \n",
       "1                                            66   \n",
       "2                                            69   \n",
       "3                                            70   \n",
       "4                                            70   \n",
       "\n",
       "   access-a-ride_total_scheduled_trips  \\\n",
       "0                                19922   \n",
       "1                                30338   \n",
       "2                                32767   \n",
       "3                                34297   \n",
       "4                                33209   \n",
       "\n",
       "   access-a-ride_%_of_comparable_pre-pandemic_day  \\\n",
       "0                                             113   \n",
       "1                                             102   \n",
       "2                                             110   \n",
       "3                                             115   \n",
       "4                                             112   \n",
       "\n",
       "   bridges_and_tunnels_total_traffic  \\\n",
       "0                             786960   \n",
       "1                             874619   \n",
       "2                             882175   \n",
       "3                             905558   \n",
       "4                             929298   \n",
       "\n",
       "   bridges_and_tunnels_%_of_comparable_pre-pandemic_day  \\\n",
       "0                                                 98      \n",
       "1                                                 95      \n",
       "2                                                 96      \n",
       "3                                                 98      \n",
       "4                                                101      \n",
       "\n",
       "   staten_island_railway_total_estimated_ridership  \\\n",
       "0                                             1636   \n",
       "1                                            17140   \n",
       "2                                            17453   \n",
       "3                                            17136   \n",
       "4                                            17203   \n",
       "\n",
       "   staten_island_railway_%_of_comparable_pre-pandemic_day  \n",
       "0                                                 52       \n",
       "1                                                107       \n",
       "2                                                109       \n",
       "3                                                107       \n",
       "4                                                108       "
      ]
     },
     "execution_count": 3,
     "metadata": {},
     "output_type": "execute_result"
    }
   ],
   "source": [
    "# Renaming columns\n",
    "df.columns = df.columns.str.strip().str.replace(\" \", \"_\").str.replace(\":\", \"\").str.lower()\n",
    "df.head()"
   ]
  },
  {
   "cell_type": "markdown",
   "id": "3bd74d8a",
   "metadata": {},
   "source": [
    "## Converting Date Column to Datetime Format"
   ]
  },
  {
   "cell_type": "code",
   "execution_count": 4,
   "id": "74dcf2cd",
   "metadata": {},
   "outputs": [],
   "source": [
    "# Converting 'date' column to datetime format\n",
    "df['date'] = pd.to_datetime(df['date'])"
   ]
  },
  {
   "cell_type": "markdown",
   "id": "292765c1",
   "metadata": {},
   "source": [
    "## Convert Percentage Columns to Numeric Format"
   ]
  },
  {
   "cell_type": "code",
   "execution_count": 10,
   "id": "1ea27717",
   "metadata": {},
   "outputs": [
    {
     "name": "stdout",
     "output_type": "stream",
     "text": [
      "Index(['date', 'subways_total_estimated_ridership',\n",
      "       'subways_%_of_comparable_pre-pandemic_day',\n",
      "       'buses_total_estimated_ridership',\n",
      "       'buses_%_of_comparable_pre-pandemic_day',\n",
      "       'lirr_total_estimated_ridership',\n",
      "       'lirr_%_of_comparable_pre-pandemic_day',\n",
      "       'metro-north_total_estimated_ridership',\n",
      "       'metro-north_%_of_comparable_pre-pandemic_day',\n",
      "       'access-a-ride_total_scheduled_trips',\n",
      "       'access-a-ride_%_of_comparable_pre-pandemic_day',\n",
      "       'bridges_and_tunnels_total_traffic',\n",
      "       'bridges_and_tunnels_%_of_comparable_pre-pandemic_day',\n",
      "       'staten_island_railway_total_estimated_ridership',\n",
      "       'staten_island_railway_%_of_comparable_pre-pandemic_day'],\n",
      "      dtype='object')\n"
     ]
    }
   ],
   "source": [
    "# Checking the exact column names\n",
    "print(df.columns)"
   ]
  },
  {
   "cell_type": "code",
   "execution_count": 13,
   "id": "a2fcc0b2",
   "metadata": {},
   "outputs": [
    {
     "name": "stdout",
     "output_type": "stream",
     "text": [
      "Index(['date', 'subways_total_estimated_ridership',\n",
      "       'subways_percent_of_comparable_pre_pandemic_day',\n",
      "       'buses_total_estimated_ridership',\n",
      "       'buses_percent_of_comparable_pre_pandemic_day',\n",
      "       'lirr_total_estimated_ridership',\n",
      "       'lirr_percent_of_comparable_pre_pandemic_day',\n",
      "       'metro_north_total_estimated_ridership',\n",
      "       'metro_north_percent_of_comparable_pre_pandemic_day',\n",
      "       'access_a_ride_total_scheduled_trips',\n",
      "       'access_a_ride_percent_of_comparable_pre_pandemic_day',\n",
      "       'bridges_and_tunnels_total_traffic',\n",
      "       'bridges_and_tunnels_percent_of_comparable_pre_pandemic_day',\n",
      "       'staten_island_railway_total_estimated_ridership',\n",
      "       'staten_island_railway_percent_of_comparable_pre_pandemic_day'],\n",
      "      dtype='object')\n"
     ]
    }
   ],
   "source": [
    "# Standardizing column names (remove special characters and lowercase)\n",
    "df.columns = (\n",
    "    df.columns.str.strip()  # Remove leading/trailing spaces\n",
    "    .str.replace(\" \", \"_\")  # Replace spaces with underscores\n",
    "    .str.replace(\"%\", \"percent\")  # Replace % with 'percent'\n",
    "    .str.replace(\"-\", \"_\")  # Replace hyphens with underscores\n",
    "    .str.lower()  # Convert to lowercase\n",
    ")\n",
    "\n",
    "# Displaying the updated column names\n",
    "print(df.columns)"
   ]
  },
  {
   "cell_type": "code",
   "execution_count": 16,
   "id": "3b1c82e1",
   "metadata": {},
   "outputs": [
    {
     "data": {
      "text/plain": [
       "date                                                            datetime64[ns]\n",
       "subways_total_estimated_ridership                                        int64\n",
       "subways_percent_of_comparable_pre_pandemic_day                           int64\n",
       "buses_total_estimated_ridership                                          int64\n",
       "buses_percent_of_comparable_pre_pandemic_day                             int64\n",
       "lirr_total_estimated_ridership                                           int64\n",
       "lirr_percent_of_comparable_pre_pandemic_day                              int64\n",
       "metro_north_total_estimated_ridership                                    int64\n",
       "metro_north_percent_of_comparable_pre_pandemic_day                       int64\n",
       "access_a_ride_total_scheduled_trips                                      int64\n",
       "access_a_ride_percent_of_comparable_pre_pandemic_day                     int64\n",
       "bridges_and_tunnels_total_traffic                                        int64\n",
       "bridges_and_tunnels_percent_of_comparable_pre_pandemic_day               int64\n",
       "staten_island_railway_total_estimated_ridership                          int64\n",
       "staten_island_railway_percent_of_comparable_pre_pandemic_day             int64\n",
       "dtype: object"
      ]
     },
     "execution_count": 16,
     "metadata": {},
     "output_type": "execute_result"
    }
   ],
   "source": [
    "df.dtypes"
   ]
  },
  {
   "cell_type": "code",
   "execution_count": 19,
   "id": "9df83f71",
   "metadata": {},
   "outputs": [
    {
     "data": {
      "text/plain": [
       "date                                                            datetime64[ns]\n",
       "subways_total_estimated_ridership                                        int64\n",
       "subways_percent_of_comparable_pre_pandemic_day                         float64\n",
       "buses_total_estimated_ridership                                          int64\n",
       "buses_percent_of_comparable_pre_pandemic_day                           float64\n",
       "lirr_total_estimated_ridership                                           int64\n",
       "lirr_percent_of_comparable_pre_pandemic_day                            float64\n",
       "metro_north_total_estimated_ridership                                    int64\n",
       "metro_north_percent_of_comparable_pre_pandemic_day                     float64\n",
       "access_a_ride_total_scheduled_trips                                      int64\n",
       "access_a_ride_percent_of_comparable_pre_pandemic_day                   float64\n",
       "bridges_and_tunnels_total_traffic                                        int64\n",
       "bridges_and_tunnels_percent_of_comparable_pre_pandemic_day             float64\n",
       "staten_island_railway_total_estimated_ridership                          int64\n",
       "staten_island_railway_percent_of_comparable_pre_pandemic_day           float64\n",
       "dtype: object"
      ]
     },
     "execution_count": 19,
     "metadata": {},
     "output_type": "execute_result"
    }
   ],
   "source": [
    "# Converting percentage columns from int64 to float64\n",
    "percentage_columns = [\n",
    "    'subways_percent_of_comparable_pre_pandemic_day',\n",
    "    'buses_percent_of_comparable_pre_pandemic_day',\n",
    "    'lirr_percent_of_comparable_pre_pandemic_day',\n",
    "    'metro_north_percent_of_comparable_pre_pandemic_day',\n",
    "    'access_a_ride_percent_of_comparable_pre_pandemic_day',\n",
    "    'bridges_and_tunnels_percent_of_comparable_pre_pandemic_day',\n",
    "    'staten_island_railway_percent_of_comparable_pre_pandemic_day'\n",
    "]\n",
    "\n",
    "df[percentage_columns] = df[percentage_columns].astype(float)\n",
    "\n",
    "# Verifying the changes\n",
    "df.dtypes"
   ]
  },
  {
   "cell_type": "code",
   "execution_count": 21,
   "id": "d67ef06a",
   "metadata": {},
   "outputs": [
    {
     "name": "stdout",
     "output_type": "stream",
     "text": [
      "subways_percent_of_comparable_pre_pandemic_day                  float64\n",
      "buses_percent_of_comparable_pre_pandemic_day                    float64\n",
      "lirr_percent_of_comparable_pre_pandemic_day                     float64\n",
      "metro_north_percent_of_comparable_pre_pandemic_day              float64\n",
      "access_a_ride_percent_of_comparable_pre_pandemic_day            float64\n",
      "bridges_and_tunnels_percent_of_comparable_pre_pandemic_day      float64\n",
      "staten_island_railway_percent_of_comparable_pre_pandemic_day    float64\n",
      "dtype: object\n"
     ]
    }
   ],
   "source": [
    "percentage_columns = [\n",
    "    'subways_percent_of_comparable_pre_pandemic_day',\n",
    "    'buses_percent_of_comparable_pre_pandemic_day',\n",
    "    'lirr_percent_of_comparable_pre_pandemic_day',\n",
    "    'metro_north_percent_of_comparable_pre_pandemic_day',\n",
    "    'access_a_ride_percent_of_comparable_pre_pandemic_day',\n",
    "    'bridges_and_tunnels_percent_of_comparable_pre_pandemic_day',\n",
    "    'staten_island_railway_percent_of_comparable_pre_pandemic_day'\n",
    "]\n",
    "\n",
    "# Print data types of percentage columns\n",
    "print(df.dtypes[percentage_columns])"
   ]
  },
  {
   "cell_type": "markdown",
   "id": "22cbccc4",
   "metadata": {},
   "source": [
    "## Handling Missing Values "
   ]
  },
  {
   "cell_type": "code",
   "execution_count": 27,
   "id": "b869d113",
   "metadata": {},
   "outputs": [],
   "source": [
    "# Checking missing values again\n",
    "df.isnull().sum()\n",
    "\n",
    "# Filling missing values (if any)\n",
    "df.fillna(0, inplace=True)"
   ]
  },
  {
   "cell_type": "markdown",
   "id": "5877965e",
   "metadata": {},
   "source": [
    "## Removing Duplicates"
   ]
  },
  {
   "cell_type": "code",
   "execution_count": 28,
   "id": "726aed0a",
   "metadata": {},
   "outputs": [
    {
     "data": {
      "text/plain": [
       "0"
      ]
     },
     "execution_count": 28,
     "metadata": {},
     "output_type": "execute_result"
    }
   ],
   "source": [
    "df.duplicated().sum()"
   ]
  },
  {
   "cell_type": "code",
   "execution_count": 29,
   "id": "3b1f1d3f",
   "metadata": {},
   "outputs": [],
   "source": [
    "# Removing duplicate rows\n",
    "df.drop_duplicates(inplace=True)"
   ]
  },
  {
   "cell_type": "markdown",
   "id": "21cb7816",
   "metadata": {},
   "source": [
    "# Key Data Analysis Questions"
   ]
  },
  {
   "cell_type": "markdown",
   "id": "70d332f1",
   "metadata": {},
   "source": [
    "## 1️⃣ COVID-19 Impact on Ridership"
   ]
  },
  {
   "cell_type": "markdown",
   "id": "95ed7510",
   "metadata": {},
   "source": [
    "### How did subway, bus, LIRR, and Metro-North ridership change over time during the pandemic?\n",
    "### How do current ridership levels compare to pre-pandemic levels?\n",
    "### Which transportation mode recovered the fastest after the initial drop?\n",
    "### Did different transportation services experience different rates of ridership decline and recovery?"
   ]
  },
  {
   "cell_type": "markdown",
   "id": "6606c0ed",
   "metadata": {},
   "source": [
    "## 2️⃣ Transportation Mode Analysis"
   ]
  },
  {
   "cell_type": "markdown",
   "id": "3850ca7d",
   "metadata": {},
   "source": [
    "### Which transportation service (subway, bus, LIRR, Metro-North, etc.) saw the largest drop in ridership during COVID-19?\n",
    "### Which service recovered the quickest post-pandemic?\n",
    "### Are ridership trends similar across subways, buses, LIRR, Metro-North, and Access-A-Ride, or do they differ?\n",
    "### Did the decline in subway ridership lead to an increase in bus or other transit usage?"
   ]
  },
  {
   "cell_type": "markdown",
   "id": "9d89bd85",
   "metadata": {},
   "source": [
    "## 3️⃣ Peak Ridership Trends "
   ]
  },
  {
   "cell_type": "markdown",
   "id": "4626adc9",
   "metadata": {},
   "source": [
    "### What are the busiest days of the week for each mode of transport?\n",
    "### Are there specific months or seasons with higher or lower ridership?\n",
    "### How does ridership fluctuate on weekdays vs. weekends?\n",
    "### What are the highest and lowest ridership days recorded?\n",
    "### Are there patterns indicating holiday or event-based spikes in ridership?"
   ]
  },
  {
   "cell_type": "markdown",
   "id": "273b5e0f",
   "metadata": {},
   "source": [
    "## 4️⃣ Ridership Percentage vs. Pre-Pandemic Levels"
   ]
  },
  {
   "cell_type": "markdown",
   "id": "2dc33042",
   "metadata": {},
   "source": [
    "### Is there a strong correlation between ridership and pre-pandemic percentages?\n",
    "### Which transit mode has returned closest to pre-pandemic levels?\n",
    "### How long did it take for each service to return to X% of pre-pandemic ridership?"
   ]
  },
  {
   "cell_type": "markdown",
   "id": "604e453e",
   "metadata": {},
   "source": [
    "## 5️⃣ Interdependencies Between Transit Services"
   ]
  },
  {
   "cell_type": "markdown",
   "id": "0206a1be",
   "metadata": {},
   "source": [
    "### Is subway ridership correlated with bus ridership? (e.g., do more people take buses when subway usage is down?)\n",
    "### Do bridge/tunnel traffic trends mirror changes in public transit ridership?\n",
    "### Did declines in Access-A-Ride trips impact overall public transit usage?"
   ]
  },
  {
   "cell_type": "markdown",
   "id": "d5cd3406",
   "metadata": {},
   "source": [
    "## 6️⃣ External Factors Influencing Ridership"
   ]
  },
  {
   "cell_type": "markdown",
   "id": "82c2631a",
   "metadata": {},
   "source": [
    "### Did major policy changes (e.g., fare changes, government restrictions) impact ridership?\n",
    "### How did ridership respond to key milestones in reopening (e.g., office returns, school reopenings)?\n",
    "### Were there weather-related dips in ridership?"
   ]
  },
  {
   "cell_type": "code",
   "execution_count": null,
   "id": "206092ff",
   "metadata": {},
   "outputs": [],
   "source": []
  }
 ],
 "metadata": {
  "kernelspec": {
   "display_name": "Python 3 (ipykernel)",
   "language": "python",
   "name": "python3"
  },
  "language_info": {
   "codemirror_mode": {
    "name": "ipython",
    "version": 3
   },
   "file_extension": ".py",
   "mimetype": "text/x-python",
   "name": "python",
   "nbconvert_exporter": "python",
   "pygments_lexer": "ipython3",
   "version": "3.9.12"
  }
 },
 "nbformat": 4,
 "nbformat_minor": 5
}
